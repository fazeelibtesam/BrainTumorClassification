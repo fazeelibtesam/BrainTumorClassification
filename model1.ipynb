{
 "cells": [
  {
   "cell_type": "code",
   "execution_count": 1,
   "id": "7dcfa8bb-aaf4-4319-a122-8452d2dc8184",
   "metadata": {},
   "outputs": [],
   "source": [
    "import numpy as np \n",
    "import pandas as pd"
   ]
  },
  {
   "cell_type": "code",
   "execution_count": 2,
   "id": "f5b6c36c-abdd-467e-bb5d-4e1ed6f685ab",
   "metadata": {},
   "outputs": [],
   "source": [
    "og_df = pd.read_csv('labels.csv')"
   ]
  },
  {
   "cell_type": "code",
   "execution_count": 3,
   "id": "7a6cd75c-599f-4102-8567-42c8f061cd8e",
   "metadata": {},
   "outputs": [
    {
     "data": {
      "text/plain": [
       "label\n",
       "2    1426\n",
       "3     930\n",
       "1     708\n",
       "Name: count, dtype: int64"
      ]
     },
     "execution_count": 3,
     "metadata": {},
     "output_type": "execute_result"
    }
   ],
   "source": [
    "og_df['label'].value_counts()"
   ]
  },
  {
   "cell_type": "code",
   "execution_count": 4,
   "id": "8462d6e2-c768-4464-82d3-fbe8a20c73c8",
   "metadata": {},
   "outputs": [],
   "source": [
    "import os"
   ]
  },
  {
   "cell_type": "code",
   "execution_count": 5,
   "id": "044c96a9-34c3-47fb-b5b3-2891fe79bd4f",
   "metadata": {},
   "outputs": [],
   "source": [
    "import tensorflow as tf\n",
    "from tensorflow.keras.preprocessing.image import load_img, img_to_array\n",
    "from sklearn.model_selection import train_test_split"
   ]
  },
  {
   "cell_type": "code",
   "execution_count": 6,
   "id": "7ef4ad70-651d-471b-9250-acd577c4253a",
   "metadata": {},
   "outputs": [],
   "source": [
    "df = og_df.copy()"
   ]
  },
  {
   "cell_type": "code",
   "execution_count": 7,
   "id": "698e84b4-2977-407c-9828-b21a30ac25b3",
   "metadata": {},
   "outputs": [],
   "source": [
    "df['label'] = df['label'] - df['label'].min()"
   ]
  },
  {
   "cell_type": "code",
   "execution_count": 8,
   "id": "ec0f1b4a-3e5f-41a0-8dbe-4e266dda994e",
   "metadata": {},
   "outputs": [],
   "source": [
    "# Image directory and resize config\n",
    "img_dir = 'C:/Users/User/dimaag/png_images'\n",
    "IMG_SIZE = (224, 224)"
   ]
  },
  {
   "cell_type": "code",
   "execution_count": 9,
   "id": "b62d947d-8005-4455-aabc-8226b60c0177",
   "metadata": {},
   "outputs": [],
   "source": [
    "# Preload all images and labels into NumPy arrays\n",
    "images = []\n",
    "labels = []\n",
    "\n",
    "for _, row in df.iterrows():\n",
    "    img_path = os.path.join(img_dir, row['filename'])\n",
    "    image = load_img(img_path, target_size=IMG_SIZE)\n",
    "    image = img_to_array(image) / 255.0\n",
    "    label = row['label']\n",
    "    images.append(image)\n",
    "    labels.append(label)"
   ]
  },
  {
   "cell_type": "code",
   "execution_count": 10,
   "id": "849cdfb4-971b-4daa-adff-1b1eca94dbbe",
   "metadata": {},
   "outputs": [],
   "source": [
    "# Convert to NumPy arrays first\n",
    "images = np.array(images, dtype=np.float32)\n",
    "labels = np.array(labels, dtype=np.int32)"
   ]
  },
  {
   "cell_type": "code",
   "execution_count": 11,
   "id": "d4597a34-6b4b-472c-a9f4-3d8a8226a716",
   "metadata": {},
   "outputs": [],
   "source": [
    "#Now split the NumPy arrays\n",
    "X_train, X_val, y_train, y_val = train_test_split(\n",
    "    images, labels, test_size=0.2, stratify=labels, random_state=42\n",
    ")"
   ]
  },
  {
   "cell_type": "code",
   "execution_count": 12,
   "id": "3d61c83a-858d-4bf0-a3fd-3b08d1409d5b",
   "metadata": {},
   "outputs": [],
   "source": [
    "#Convert to TensorFlow tensors\n",
    "X_train = tf.convert_to_tensor(X_train, dtype=tf.float32)\n",
    "X_val   = tf.convert_to_tensor(X_val, dtype=tf.float32)\n",
    "y_train = tf.convert_to_tensor(y_train, dtype=tf.int32)\n",
    "y_val   = tf.convert_to_tensor(y_val, dtype=tf.int32)"
   ]
  },
  {
   "cell_type": "code",
   "execution_count": 13,
   "id": "76554b10-f1eb-43d0-b8bf-04348cb946f2",
   "metadata": {},
   "outputs": [
    {
     "data": {
      "text/plain": [
       "label\n",
       "1    1426\n",
       "2     930\n",
       "0     708\n",
       "Name: count, dtype: int64"
      ]
     },
     "execution_count": 13,
     "metadata": {},
     "output_type": "execute_result"
    }
   ],
   "source": [
    "df['label'].value_counts()"
   ]
  },
  {
   "cell_type": "markdown",
   "id": "6e144dcf-9d51-4d8a-8d28-ccedd9709ab9",
   "metadata": {},
   "source": [
    "PRETRAINED MODELS"
   ]
  },
  {
   "cell_type": "markdown",
   "id": "1c29924d-71d9-49f1-b523-9193f866d024",
   "metadata": {},
   "source": [
    "1) MobileNetv2"
   ]
  },
  {
   "cell_type": "code",
   "execution_count": 16,
   "id": "2d985d63-4b4e-4dde-80c6-f0643747eb50",
   "metadata": {},
   "outputs": [],
   "source": [
    "from tensorflow.keras.applications import MobileNetV2\n",
    "from tensorflow.keras import layers, models\n",
    "from tensorflow.keras import Sequential, Input"
   ]
  },
  {
   "cell_type": "code",
   "execution_count": 17,
   "id": "09523a7d-5811-4d41-9448-439930359386",
   "metadata": {},
   "outputs": [],
   "source": [
    "from sklearn.metrics import accuracy_score\n",
    "from sklearn.metrics import classification_report, confusion_matrix\n",
    "import seaborn as sns\n",
    "import matplotlib.pyplot as plt"
   ]
  },
  {
   "cell_type": "code",
   "execution_count": 18,
   "id": "1d6e7b7e-b65f-4f9d-8c2b-de76943ef9a1",
   "metadata": {},
   "outputs": [
    {
     "name": "stdout",
     "output_type": "stream",
     "text": [
      "Epoch 1/10\n",
      "\u001b[1m77/77\u001b[0m \u001b[32m━━━━━━━━━━━━━━━━━━━━\u001b[0m\u001b[37m\u001b[0m \u001b[1m37s\u001b[0m 425ms/step - accuracy: 0.6572 - loss: 0.8204 - val_accuracy: 0.8483 - val_loss: 0.3988\n",
      "Epoch 2/10\n",
      "\u001b[1m77/77\u001b[0m \u001b[32m━━━━━━━━━━━━━━━━━━━━\u001b[0m\u001b[37m\u001b[0m \u001b[1m32s\u001b[0m 416ms/step - accuracy: 0.8757 - loss: 0.3655 - val_accuracy: 0.8679 - val_loss: 0.3238\n",
      "Epoch 3/10\n",
      "\u001b[1m77/77\u001b[0m \u001b[32m━━━━━━━━━━━━━━━━━━━━\u001b[0m\u001b[37m\u001b[0m \u001b[1m32s\u001b[0m 414ms/step - accuracy: 0.8961 - loss: 0.2955 - val_accuracy: 0.8777 - val_loss: 0.3056\n",
      "Epoch 4/10\n",
      "\u001b[1m77/77\u001b[0m \u001b[32m━━━━━━━━━━━━━━━━━━━━\u001b[0m\u001b[37m\u001b[0m \u001b[1m32s\u001b[0m 416ms/step - accuracy: 0.9116 - loss: 0.2570 - val_accuracy: 0.8923 - val_loss: 0.3079\n",
      "Epoch 5/10\n",
      "\u001b[1m77/77\u001b[0m \u001b[32m━━━━━━━━━━━━━━━━━━━━\u001b[0m\u001b[37m\u001b[0m \u001b[1m32s\u001b[0m 412ms/step - accuracy: 0.9132 - loss: 0.2438 - val_accuracy: 0.8923 - val_loss: 0.2643\n",
      "Epoch 6/10\n",
      "\u001b[1m77/77\u001b[0m \u001b[32m━━━━━━━━━━━━━━━━━━━━\u001b[0m\u001b[37m\u001b[0m \u001b[1m32s\u001b[0m 419ms/step - accuracy: 0.9325 - loss: 0.2046 - val_accuracy: 0.8923 - val_loss: 0.2564\n",
      "Epoch 7/10\n",
      "\u001b[1m77/77\u001b[0m \u001b[32m━━━━━━━━━━━━━━━━━━━━\u001b[0m\u001b[37m\u001b[0m \u001b[1m33s\u001b[0m 428ms/step - accuracy: 0.9312 - loss: 0.2051 - val_accuracy: 0.9005 - val_loss: 0.2413\n",
      "Epoch 8/10\n",
      "\u001b[1m77/77\u001b[0m \u001b[32m━━━━━━━━━━━━━━━━━━━━\u001b[0m\u001b[37m\u001b[0m \u001b[1m32s\u001b[0m 418ms/step - accuracy: 0.9478 - loss: 0.1790 - val_accuracy: 0.8956 - val_loss: 0.2546\n",
      "Epoch 9/10\n",
      "\u001b[1m77/77\u001b[0m \u001b[32m━━━━━━━━━━━━━━━━━━━━\u001b[0m\u001b[37m\u001b[0m \u001b[1m33s\u001b[0m 423ms/step - accuracy: 0.9383 - loss: 0.1732 - val_accuracy: 0.9103 - val_loss: 0.2345\n",
      "Epoch 10/10\n",
      "\u001b[1m77/77\u001b[0m \u001b[32m━━━━━━━━━━━━━━━━━━━━\u001b[0m\u001b[37m\u001b[0m \u001b[1m33s\u001b[0m 429ms/step - accuracy: 0.9411 - loss: 0.1647 - val_accuracy: 0.9103 - val_loss: 0.2343\n"
     ]
    },
    {
     "data": {
      "text/plain": [
       "<keras.src.callbacks.history.History at 0x2830cb0de80>"
      ]
     },
     "execution_count": 18,
     "metadata": {},
     "output_type": "execute_result"
    }
   ],
   "source": [
    "base_model = MobileNetV2(weights='imagenet', include_top=False, input_shape=(224, 224, 3))\n",
    "base_model.trainable = False\n",
    "\n",
    "model = models.Sequential([\n",
    "    base_model,\n",
    "    layers.GlobalAveragePooling2D(),\n",
    "    layers.Dense(3, activation='softmax')  # 3 tumor classes\n",
    "])\n",
    "\n",
    "model.compile(\n",
    "    optimizer='adam',\n",
    "    loss='sparse_categorical_crossentropy',  # because labels are integers\n",
    "    metrics=['accuracy']\n",
    ")\n",
    "\n",
    "model.fit(X_train, y_train, validation_data=(X_val, y_val), epochs=10, batch_size=32)"
   ]
  },
  {
   "cell_type": "code",
   "execution_count": 19,
   "id": "0576738e-a0a5-430d-9e11-746510374330",
   "metadata": {},
   "outputs": [
    {
     "name": "stdout",
     "output_type": "stream",
     "text": [
      "\u001b[1m20/20\u001b[0m \u001b[32m━━━━━━━━━━━━━━━━━━━━\u001b[0m\u001b[37m\u001b[0m \u001b[1m9s\u001b[0m 358ms/step\n"
     ]
    }
   ],
   "source": [
    "y_pred_probs = model.predict(X_val)\n",
    "y_pred = np.argmax(y_pred_probs, axis=1)\n",
    "y_true = y_val.numpy() if isinstance(y_val, tf.Tensor) else y_val\n"
   ]
  },
  {
   "cell_type": "code",
   "execution_count": 20,
   "id": "2f31016d-3abf-452f-9bb1-82151d00bd0c",
   "metadata": {},
   "outputs": [
    {
     "name": "stdout",
     "output_type": "stream",
     "text": [
      "\n",
      "Classification Report (MobileNetV2):\n",
      "              precision    recall  f1-score   support\n",
      "\n",
      "  Meningioma       0.79      0.87      0.83       142\n",
      "      Glioma       0.96      0.89      0.92       285\n",
      "   Pituitary       0.94      0.97      0.96       186\n",
      "\n",
      "    accuracy                           0.91       613\n",
      "   macro avg       0.90      0.91      0.90       613\n",
      "weighted avg       0.91      0.91      0.91       613\n",
      "\n"
     ]
    }
   ],
   "source": [
    "print(\"\\nClassification Report (MobileNetV2):\")\n",
    "class_names = [\"Meningioma\", \"Glioma\", \"Pituitary\"]\n",
    "print(classification_report(y_true, y_pred, target_names=class_names))"
   ]
  },
  {
   "cell_type": "code",
   "execution_count": 21,
   "id": "92573b83-566a-46ac-ab22-50854790b3e3",
   "metadata": {},
   "outputs": [
    {
     "data": {
      "image/png": "[encoded data removed]",
      "text/plain": [
       "<Figure size 600x500 with 2 Axes>"
      ]
     },
     "metadata": {},
     "output_type": "display_data"
    }
   ],
   "source": [
    "cm = confusion_matrix(y_true, y_pred)\n",
    "plt.figure(figsize=(6, 5))\n",
    "sns.heatmap(cm, annot=True, fmt=\"d\", cmap=\"Greens\",\n",
    "            xticklabels=class_names, yticklabels=class_names)\n",
    "plt.xlabel(\"Predicted\")\n",
    "plt.ylabel(\"Actual\")\n",
    "plt.title(\"Confusion Matrix - MobileNetV2\")\n",
    "plt.show()\n"
   ]
  },
  {
   "cell_type": "code",
   "execution_count": 22,
   "id": "0c4c0617-9d67-47b2-9746-061d9f58dc28",
   "metadata": {},
   "outputs": [
    {
     "name": "stdout",
     "output_type": "stream",
     "text": [
      "MobileNetV2 Accuracy: 0.9103\n"
     ]
    }
   ],
   "source": [
    "print(f\"MobileNetV2 Accuracy: {accuracy_score(y_true, y_pred):.4f}\")"
   ]
  }
 ],
 "metadata": {
  "kernelspec": {
   "display_name": "Python [conda env:base] *",
   "language": "python",
   "name": "conda-base-py"
  },
  "language_info": {
   "codemirror_mode": {
    "name": "ipython",
    "version": 3
   },
   "file_extension": ".py",
   "mimetype": "text/x-python",
   "name": "python",
   "nbconvert_exporter": "python",
   "pygments_lexer": "ipython3",
   "version": "3.12.7"
  }
 },
 "nbformat": 4,
 "nbformat_minor": 5
}
