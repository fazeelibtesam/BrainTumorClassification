{
 "cells": [
  {
   "cell_type": "code",
   "execution_count": 328,
   "id": "c94ae2f5-1079-40a7-bcdf-e6099a30a5a5",
   "metadata": {},
   "outputs": [],
   "source": [
    "import os\n",
    "import numpy as np \n",
    "import pandas as pd\n",
    "import tensorflow as tf\n",
    "from tensorflow.keras.preprocessing.image import load_img, img_to_array\n",
    "from sklearn.model_selection import train_test_split\n",
    "from tensorflow.keras import Sequential, layers, Input"
   ]
  },
  {
   "cell_type": "code",
   "execution_count": 329,
   "id": "97e263b3-a4aa-4946-bab9-ac9913596b45",
   "metadata": {},
   "outputs": [],
   "source": [
    "og_df = pd.read_csv('labels.csv')"
   ]
  },
  {
   "cell_type": "code",
   "execution_count": 330,
   "id": "8132ad5f-6317-4e0c-989b-c3bb3cbffa76",
   "metadata": {},
   "outputs": [
    {
     "data": {
      "text/plain": [
       "label\n",
       "2    1426\n",
       "3     930\n",
       "1     708\n",
       "Name: count, dtype: int64"
      ]
     },
     "execution_count": 330,
     "metadata": {},
     "output_type": "execute_result"
    }
   ],
   "source": [
    "og_df['label'].value_counts()"
   ]
  },
  {
   "cell_type": "code",
   "execution_count": 331,
   "id": "096c6ff1-01ad-48ce-b6bb-520835fe3ef0",
   "metadata": {},
   "outputs": [],
   "source": [
    "df = og_df.copy()"
   ]
  },
  {
   "cell_type": "code",
   "execution_count": 332,
   "id": "d4cab3b7-ca24-4b59-b30f-01f565e81ba9",
   "metadata": {},
   "outputs": [],
   "source": [
    "df['label'] = df['label'] - df['label'].min()"
   ]
  },
  {
   "cell_type": "code",
   "execution_count": 333,
   "id": "99a376f9-f8cc-4bc3-8484-9ddd831dbca1",
   "metadata": {},
   "outputs": [],
   "source": [
    "# Image directory and resize config\n",
    "img_dir = 'C:/Users/User/dimaag/png_images'\n",
    "IMG_SIZE = (224, 224)"
   ]
  },
  {
   "cell_type": "code",
   "execution_count": 334,
   "id": "5613421f-886e-4883-a564-262e4cc9414b",
   "metadata": {},
   "outputs": [],
   "source": [
    "# Preload all images and labels into NumPy arrays\n",
    "images = []\n",
    "labels = []\n",
    "\n",
    "for _, row in df.iterrows():\n",
    "    img_path = os.path.join(img_dir, row['filename'])\n",
    "    image = load_img(img_path, target_size=IMG_SIZE)\n",
    "    image = img_to_array(image) / 255.0\n",
    "    label = row['label']\n",
    "    images.append(image)\n",
    "    labels.append(label)"
   ]
  },
  {
   "cell_type": "code",
   "execution_count": 335,
   "id": "91516083-2a28-4530-9083-77863bac4e16",
   "metadata": {},
   "outputs": [],
   "source": [
    "# Convert to NumPy arrays first\n",
    "images = np.array(images, dtype=np.float32)\n",
    "labels = np.array(labels, dtype=np.int32)"
   ]
  },
  {
   "cell_type": "code",
   "execution_count": 336,
   "id": "bd849824-0945-4196-90f1-b040c3a53451",
   "metadata": {},
   "outputs": [],
   "source": [
    "#Now split the NumPy arrays\n",
    "X_train, X_val, y_train, y_val = train_test_split(\n",
    "    images, labels, test_size=0.2, stratify=labels, random_state=42\n",
    ")"
   ]
  },
  {
   "cell_type": "code",
   "execution_count": 337,
   "id": "52564c1e-ce82-43a2-90ab-b57b80aec91e",
   "metadata": {},
   "outputs": [],
   "source": [
    "#Convert to TensorFlow tensors\n",
    "X_train = tf.convert_to_tensor(X_train, dtype=tf.float32)\n",
    "X_val   = tf.convert_to_tensor(X_val, dtype=tf.float32)\n",
    "y_train = tf.convert_to_tensor(y_train, dtype=tf.int32)\n",
    "y_val   = tf.convert_to_tensor(y_val, dtype=tf.int32)"
   ]
  },
  {
   "cell_type": "code",
   "execution_count": 338,
   "id": "de35e607-c917-40b1-b39b-f9fb68ee5e62",
   "metadata": {},
   "outputs": [
    {
     "data": {
      "text/plain": [
       "label\n",
       "1    1426\n",
       "2     930\n",
       "0     708\n",
       "Name: count, dtype: int64"
      ]
     },
     "execution_count": 338,
     "metadata": {},
     "output_type": "execute_result"
    }
   ],
   "source": [
    "df['label'].value_counts()"
   ]
  },
  {
   "cell_type": "code",
   "execution_count": 339,
   "id": "b2ddf2b5-cc09-485c-b8c5-206bac25f388",
   "metadata": {},
   "outputs": [],
   "source": [
    "custom_model = Sequential([\n",
    "    Input(shape=(224, 224, 3)),  #Explicit input layer\n",
    "    layers.Conv2D(32, (3, 3), activation='relu'),\n",
    "    layers.MaxPooling2D(2, 2),\n",
    "    layers.Conv2D(64, (3, 3), activation='relu'),\n",
    "    layers.MaxPooling2D(2, 2),\n",
    "    layers.Flatten(),\n",
    "    layers.Dense(128, activation='relu'),\n",
    "    layers.Dropout(0.3),\n",
    "    layers.Dense(3, activation='softmax')\n",
    "])"
   ]
  },
  {
   "cell_type": "code",
   "execution_count": 340,
   "id": "8d192cb9-4d64-47c9-a83a-be038fbeb29c",
   "metadata": {},
   "outputs": [],
   "source": [
    "custom_model.compile(\n",
    "    optimizer='adam',\n",
    "    loss='sparse_categorical_crossentropy',\n",
    "    metrics=['accuracy']\n",
    ")"
   ]
  },
  {
   "cell_type": "code",
   "execution_count": 341,
   "id": "66d7b5c2-0392-4d64-ae8b-30b71481d5b2",
   "metadata": {},
   "outputs": [
    {
     "name": "stdout",
     "output_type": "stream",
     "text": [
      "Epoch 1/12\n",
      "\u001b[1m77/77\u001b[0m \u001b[32m━━━━━━━━━━━━━━━━━━━━\u001b[0m\u001b[37m\u001b[0m \u001b[1m38s\u001b[0m 470ms/step - accuracy: 0.6223 - loss: 1.1612 - val_accuracy: 0.8450 - val_loss: 0.3372\n",
      "Epoch 2/12\n",
      "\u001b[1m77/77\u001b[0m \u001b[32m━━━━━━━━━━━━━━━━━━━━\u001b[0m\u001b[37m\u001b[0m \u001b[1m37s\u001b[0m 481ms/step - accuracy: 0.8882 - loss: 0.2642 - val_accuracy: 0.9021 - val_loss: 0.2213\n",
      "Epoch 3/12\n",
      "\u001b[1m77/77\u001b[0m \u001b[32m━━━━━━━━━━━━━━━━━━━━\u001b[0m\u001b[37m\u001b[0m \u001b[1m37s\u001b[0m 480ms/step - accuracy: 0.9584 - loss: 0.1097 - val_accuracy: 0.9217 - val_loss: 0.1757\n",
      "Epoch 4/12\n",
      "\u001b[1m77/77\u001b[0m \u001b[32m━━━━━━━━━━━━━━━━━━━━\u001b[0m\u001b[37m\u001b[0m \u001b[1m37s\u001b[0m 476ms/step - accuracy: 0.9834 - loss: 0.0518 - val_accuracy: 0.9201 - val_loss: 0.2204\n",
      "Epoch 5/12\n",
      "\u001b[1m77/77\u001b[0m \u001b[32m━━━━━━━━━━━━━━━━━━━━\u001b[0m\u001b[37m\u001b[0m \u001b[1m37s\u001b[0m 475ms/step - accuracy: 0.9892 - loss: 0.0342 - val_accuracy: 0.9152 - val_loss: 0.2218\n",
      "Epoch 6/12\n",
      "\u001b[1m77/77\u001b[0m \u001b[32m━━━━━━━━━━━━━━━━━━━━\u001b[0m\u001b[37m\u001b[0m \u001b[1m37s\u001b[0m 480ms/step - accuracy: 0.9916 - loss: 0.0293 - val_accuracy: 0.9282 - val_loss: 0.2697\n",
      "Epoch 7/12\n",
      "\u001b[1m77/77\u001b[0m \u001b[32m━━━━━━━━━━━━━━━━━━━━\u001b[0m\u001b[37m\u001b[0m \u001b[1m37s\u001b[0m 478ms/step - accuracy: 0.9918 - loss: 0.0245 - val_accuracy: 0.9299 - val_loss: 0.2075\n",
      "Epoch 8/12\n",
      "\u001b[1m77/77\u001b[0m \u001b[32m━━━━━━━━━━━━━━━━━━━━\u001b[0m\u001b[37m\u001b[0m \u001b[1m37s\u001b[0m 483ms/step - accuracy: 0.9933 - loss: 0.0218 - val_accuracy: 0.9380 - val_loss: 0.2127\n",
      "Epoch 9/12\n",
      "\u001b[1m77/77\u001b[0m \u001b[32m━━━━━━━━━━━━━━━━━━━━\u001b[0m\u001b[37m\u001b[0m \u001b[1m37s\u001b[0m 483ms/step - accuracy: 0.9970 - loss: 0.0142 - val_accuracy: 0.9560 - val_loss: 0.1604\n",
      "Epoch 10/12\n",
      "\u001b[1m77/77\u001b[0m \u001b[32m━━━━━━━━━━━━━━━━━━━━\u001b[0m\u001b[37m\u001b[0m \u001b[1m37s\u001b[0m 475ms/step - accuracy: 1.0000 - loss: 0.0016 - val_accuracy: 0.9462 - val_loss: 0.2470\n",
      "Epoch 11/12\n",
      "\u001b[1m77/77\u001b[0m \u001b[32m━━━━━━━━━━━━━━━━━━━━\u001b[0m\u001b[37m\u001b[0m \u001b[1m38s\u001b[0m 494ms/step - accuracy: 1.0000 - loss: 0.0038 - val_accuracy: 0.9592 - val_loss: 0.1897\n",
      "Epoch 12/12\n",
      "\u001b[1m77/77\u001b[0m \u001b[32m━━━━━━━━━━━━━━━━━━━━\u001b[0m\u001b[37m\u001b[0m \u001b[1m38s\u001b[0m 496ms/step - accuracy: 0.9995 - loss: 0.0016 - val_accuracy: 0.9511 - val_loss: 0.1991\n"
     ]
    },
    {
     "data": {
      "text/plain": [
       "<keras.src.callbacks.history.History at 0x2cfb87a6870>"
      ]
     },
     "execution_count": 341,
     "metadata": {},
     "output_type": "execute_result"
    }
   ],
   "source": [
    "custom_model.fit(X_train, y_train, epochs=12, validation_data=(X_val, y_val), batch_size=32)"
   ]
  },
  {
   "cell_type": "code",
   "execution_count": 342,
   "id": "9493c713-f14a-40e3-9437-848068390a36",
   "metadata": {},
   "outputs": [],
   "source": [
    "from sklearn.metrics import accuracy_score\n",
    "from sklearn.metrics import classification_report, confusion_matrix\n",
    "import seaborn as sns\n",
    "import matplotlib.pyplot as plt"
   ]
  },
  {
   "cell_type": "code",
   "execution_count": 343,
   "id": "4c9b4fde-2c04-4e64-8c12-e398eb998943",
   "metadata": {},
   "outputs": [
    {
     "name": "stdout",
     "output_type": "stream",
     "text": [
      "\u001b[1m20/20\u001b[0m \u001b[32m━━━━━━━━━━━━━━━━━━━━\u001b[0m\u001b[37m\u001b[0m \u001b[1m2s\u001b[0m 83ms/step\n"
     ]
    }
   ],
   "source": [
    "# Get predicted probabilities\n",
    "y_pred_probs = custom_model.predict(X_val)\n",
    "\n",
    "# Get predicted class labels\n",
    "y_pred = np.argmax(y_pred_probs, axis=1)\n",
    "\n",
    "# Convert y_val to NumPy array if it's a Tensor\n",
    "y_true = y_val.numpy() if isinstance(y_val, tf.Tensor) else y_val"
   ]
  },
  {
   "cell_type": "code",
   "execution_count": 344,
   "id": "c6f7a6f0-6ec1-4b77-bea2-20ed8f24a18e",
   "metadata": {},
   "outputs": [
    {
     "name": "stdout",
     "output_type": "stream",
     "text": [
      "\n",
      "Classification Report (Custom CNN):\n",
      "              precision    recall  f1-score   support\n",
      "\n",
      "  Meningioma       0.92      0.87      0.90       142\n",
      "      Glioma       0.94      0.96      0.95       285\n",
      "   Pituitary       0.99      0.99      0.99       186\n",
      "\n",
      "    accuracy                           0.95       613\n",
      "   macro avg       0.95      0.94      0.95       613\n",
      "weighted avg       0.95      0.95      0.95       613\n",
      "\n"
     ]
    }
   ],
   "source": [
    "print(\"\\nClassification Report (Custom CNN):\")\n",
    "class_names = [\"Meningioma\", \"Glioma\", \"Pituitary\"]\n",
    "print(classification_report(y_true, y_pred, target_names=class_names))"
   ]
  },
  {
   "cell_type": "code",
   "execution_count": 345,
   "id": "1772fd97-f323-4c32-9e26-57d88380512f",
   "metadata": {},
   "outputs": [
    {
     "data": {
      "image/png": "[encoded data removed]",
      "text/plain": [
       "<Figure size 600x500 with 2 Axes>"
      ]
     },
     "metadata": {},
     "output_type": "display_data"
    }
   ],
   "source": [
    "cm = confusion_matrix(y_true, y_pred)\n",
    "\n",
    "plt.figure(figsize=(6, 5))\n",
    "sns.heatmap(cm, annot=True, fmt=\"d\", cmap=\"Blues\",\n",
    "            xticklabels=class_names, yticklabels=class_names)\n",
    "plt.xlabel(\"Predicted\")\n",
    "plt.ylabel(\"Actual\")\n",
    "plt.title(\"Confusion Matrix - Custom CNN\")\n",
    "plt.show()"
   ]
  },
  {
   "cell_type": "code",
   "execution_count": 346,
   "id": "7005f3a0-cf63-4469-8fd7-a212e4997019",
   "metadata": {},
   "outputs": [
    {
     "name": "stdout",
     "output_type": "stream",
     "text": [
      "Custom CNN Accuracy: 0.9511\n"
     ]
    }
   ],
   "source": [
    "loss, accuracy = custom_model.evaluate(X_val, y_val, verbose=0)\n",
    "print(f\"Custom CNN Accuracy: {accuracy:.4f}\")"
   ]
  },
  {
   "cell_type": "code",
   "execution_count": 369,
   "id": "4b0262ac-14bc-4831-9936-2fd77ec19b88",
   "metadata": {},
   "outputs": [],
   "source": [
    "custom_model.save('final_custom_model.keras')"
   ]
  },
  {
   "cell_type": "code",
   "execution_count": null,
   "id": "20727b67-7a60-454d-8aac-7ffc2f452b4a",
   "metadata": {},
   "outputs": [],
   "source": []
  }
 ],
 "metadata": {
  "kernelspec": {
   "display_name": "Python [conda env:base] *",
   "language": "python",
   "name": "conda-base-py"
  },
  "language_info": {
   "codemirror_mode": {
    "name": "ipython",
    "version": 3
   },
   "file_extension": ".py",
   "mimetype": "text/x-python",
   "name": "python",
   "nbconvert_exporter": "python",
   "pygments_lexer": "ipython3",
   "version": "3.12.7"
  }
 },
 "nbformat": 4,
 "nbformat_minor": 5
}
