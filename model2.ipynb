{
 "cells": [
  {
   "cell_type": "code",
   "execution_count": 1,
   "id": "febdc1aa-0472-4c06-afa6-61042346c405",
   "metadata": {},
   "outputs": [],
   "source": [
    "import numpy as np \n",
    "import pandas as pd\n",
    "from tensorflow.keras.applications import ResNet50"
   ]
  },
  {
   "cell_type": "code",
   "execution_count": 2,
   "id": "140c4f79-642b-43fe-8b18-4271fdf22f24",
   "metadata": {},
   "outputs": [],
   "source": [
    "og_df = pd.read_csv('labels.csv')"
   ]
  },
  {
   "cell_type": "code",
   "execution_count": 3,
   "id": "0f8cbe0c-8fef-4726-8fc3-44bc277af04a",
   "metadata": {},
   "outputs": [
    {
     "data": {
      "text/plain": [
       "label\n",
       "2    1426\n",
       "3     930\n",
       "1     708\n",
       "Name: count, dtype: int64"
      ]
     },
     "execution_count": 3,
     "metadata": {},
     "output_type": "execute_result"
    }
   ],
   "source": [
    "og_df['label'].value_counts()"
   ]
  },
  {
   "cell_type": "code",
   "execution_count": 4,
   "id": "96d8e082-b92d-4442-a571-da4eb55b5996",
   "metadata": {},
   "outputs": [],
   "source": [
    "import os\n",
    "import tensorflow as tf\n",
    "from tensorflow.keras.preprocessing.image import load_img, img_to_array\n",
    "from sklearn.model_selection import train_test_split"
   ]
  },
  {
   "cell_type": "code",
   "execution_count": 5,
   "id": "3768c026-c87b-4cee-8705-ead373a4c36f",
   "metadata": {},
   "outputs": [],
   "source": [
    "df = og_df.copy()"
   ]
  },
  {
   "cell_type": "code",
   "execution_count": 6,
   "id": "a887939e-f772-4293-a682-0bdfaa1a7c0b",
   "metadata": {},
   "outputs": [],
   "source": [
    "df['label'] = df['label'] - df['label'].min()"
   ]
  },
  {
   "cell_type": "code",
   "execution_count": 7,
   "id": "a729ad12-b491-42e1-be43-f4ea240e1d32",
   "metadata": {},
   "outputs": [],
   "source": [
    "# Image directory and resize config\n",
    "img_dir = 'C:/Users/User/dimaag/png_images'\n",
    "IMG_SIZE = (224, 224)"
   ]
  },
  {
   "cell_type": "code",
   "execution_count": 8,
   "id": "e73c6a64-2ca2-4c26-89cb-b21ca2018df3",
   "metadata": {},
   "outputs": [],
   "source": [
    "# Preload all images and labels into NumPy arrays\n",
    "images = []\n",
    "labels = []\n",
    "\n",
    "for _, row in df.iterrows():\n",
    "    img_path = os.path.join(img_dir, row['filename'])\n",
    "    image = load_img(img_path, target_size=IMG_SIZE)\n",
    "    image = img_to_array(image) / 255.0\n",
    "    label = row['label']\n",
    "    images.append(image)\n",
    "    labels.append(label)"
   ]
  },
  {
   "cell_type": "code",
   "execution_count": 9,
   "id": "e89a7919-69ae-4667-81f6-dbeeda3062ca",
   "metadata": {},
   "outputs": [],
   "source": [
    "# Convert to NumPy arrays first\n",
    "images = np.array(images, dtype=np.float32)\n",
    "labels = np.array(labels, dtype=np.int32)"
   ]
  },
  {
   "cell_type": "code",
   "execution_count": 10,
   "id": "bb48bc38-f64f-48d8-9312-125984dec0ca",
   "metadata": {},
   "outputs": [],
   "source": [
    "#Now split the NumPy arrays\n",
    "X_train, X_val, y_train, y_val = train_test_split(\n",
    "    images, labels, test_size=0.2, stratify=labels, random_state=42\n",
    ")"
   ]
  },
  {
   "cell_type": "code",
   "execution_count": 11,
   "id": "1171bdb5-d15b-4649-8493-1792538ece22",
   "metadata": {},
   "outputs": [],
   "source": [
    "#Convert to TensorFlow tensors\n",
    "X_train = tf.convert_to_tensor(X_train, dtype=tf.float32)\n",
    "X_val   = tf.convert_to_tensor(X_val, dtype=tf.float32)\n",
    "y_train = tf.convert_to_tensor(y_train, dtype=tf.int32)\n",
    "y_val   = tf.convert_to_tensor(y_val, dtype=tf.int32)"
   ]
  },
  {
   "cell_type": "code",
   "execution_count": 12,
   "id": "a1902f1e-2245-4dfb-90a3-87a53041355a",
   "metadata": {},
   "outputs": [
    {
     "data": {
      "text/plain": [
       "label\n",
       "1    1426\n",
       "2     930\n",
       "0     708\n",
       "Name: count, dtype: int64"
      ]
     },
     "execution_count": 12,
     "metadata": {},
     "output_type": "execute_result"
    }
   ],
   "source": [
    "df['label'].value_counts()"
   ]
  },
  {
   "cell_type": "code",
   "execution_count": 13,
   "id": "439e43db-b169-4bc6-ae6e-a47a0ea10a51",
   "metadata": {},
   "outputs": [],
   "source": [
    "from tensorflow.keras.applications import MobileNetV2\n",
    "from tensorflow.keras import layers, models\n",
    "from tensorflow.keras import Sequential, Input\n",
    "from sklearn.metrics import accuracy_score\n",
    "from sklearn.metrics import classification_report, confusion_matrix\n",
    "import seaborn as sns\n",
    "import matplotlib.pyplot as plt"
   ]
  },
  {
   "cell_type": "code",
   "execution_count": 14,
   "id": "638665e4-8851-4049-8ad8-51b583b0aa20",
   "metadata": {},
   "outputs": [
    {
     "name": "stdout",
     "output_type": "stream",
     "text": [
      "Epoch 1/10\n",
      "\u001b[1m77/77\u001b[0m \u001b[32m━━━━━━━━━━━━━━━━━━━━\u001b[0m\u001b[37m\u001b[0m \u001b[1m113s\u001b[0m 1s/step - accuracy: 0.3782 - loss: 1.2874 - val_accuracy: 0.4666 - val_loss: 1.0025\n",
      "Epoch 2/10\n",
      "\u001b[1m77/77\u001b[0m \u001b[32m━━━━━━━━━━━━━━━━━━━━\u001b[0m\u001b[37m\u001b[0m \u001b[1m103s\u001b[0m 1s/step - accuracy: 0.4983 - loss: 1.0035 - val_accuracy: 0.5775 - val_loss: 0.9205\n",
      "Epoch 3/10\n",
      "\u001b[1m77/77\u001b[0m \u001b[32m━━━━━━━━━━━━━━━━━━━━\u001b[0m\u001b[37m\u001b[0m \u001b[1m104s\u001b[0m 1s/step - accuracy: 0.5621 - loss: 0.9374 - val_accuracy: 0.6444 - val_loss: 0.8564\n",
      "Epoch 4/10\n",
      "\u001b[1m77/77\u001b[0m \u001b[32m━━━━━━━━━━━━━━━━━━━━\u001b[0m\u001b[37m\u001b[0m \u001b[1m104s\u001b[0m 1s/step - accuracy: 0.6032 - loss: 0.8765 - val_accuracy: 0.6786 - val_loss: 0.7903\n",
      "Epoch 5/10\n",
      "\u001b[1m77/77\u001b[0m \u001b[32m━━━━━━━━━━━━━━━━━━━━\u001b[0m\u001b[37m\u001b[0m \u001b[1m104s\u001b[0m 1s/step - accuracy: 0.6252 - loss: 0.8300 - val_accuracy: 0.6656 - val_loss: 0.7478\n",
      "Epoch 6/10\n",
      "\u001b[1m77/77\u001b[0m \u001b[32m━━━━━━━━━━━━━━━━━━━━\u001b[0m\u001b[37m\u001b[0m \u001b[1m100s\u001b[0m 1s/step - accuracy: 0.6346 - loss: 0.7958 - val_accuracy: 0.6966 - val_loss: 0.7479\n",
      "Epoch 7/10\n",
      "\u001b[1m77/77\u001b[0m \u001b[32m━━━━━━━━━━━━━━━━━━━━\u001b[0m\u001b[37m\u001b[0m \u001b[1m102s\u001b[0m 1s/step - accuracy: 0.6689 - loss: 0.7540 - val_accuracy: 0.7162 - val_loss: 0.6661\n",
      "Epoch 8/10\n",
      "\u001b[1m77/77\u001b[0m \u001b[32m━━━━━━━━━━━━━━━━━━━━\u001b[0m\u001b[37m\u001b[0m \u001b[1m106s\u001b[0m 1s/step - accuracy: 0.6827 - loss: 0.7174 - val_accuracy: 0.7210 - val_loss: 0.6475\n",
      "Epoch 9/10\n",
      "\u001b[1m77/77\u001b[0m \u001b[32m━━━━━━━━━━━━━━━━━━━━\u001b[0m\u001b[37m\u001b[0m \u001b[1m102s\u001b[0m 1s/step - accuracy: 0.6742 - loss: 0.7151 - val_accuracy: 0.7520 - val_loss: 0.6229\n",
      "Epoch 10/10\n",
      "\u001b[1m77/77\u001b[0m \u001b[32m━━━━━━━━━━━━━━━━━━━━\u001b[0m\u001b[37m\u001b[0m \u001b[1m103s\u001b[0m 1s/step - accuracy: 0.7133 - loss: 0.6705 - val_accuracy: 0.7471 - val_loss: 0.6160\n"
     ]
    },
    {
     "data": {
      "text/plain": [
       "<keras.src.callbacks.history.History at 0x236146ad610>"
      ]
     },
     "execution_count": 14,
     "metadata": {},
     "output_type": "execute_result"
    }
   ],
   "source": [
    "resnet_base = ResNet50(weights='imagenet', include_top=False, input_shape=(224, 224, 3))\n",
    "resnet_base.trainable = False\n",
    "\n",
    "resnet_model = Sequential([\n",
    "    resnet_base,\n",
    "    layers.GlobalAveragePooling2D(),\n",
    "    layers.Dense(128, activation='relu'),\n",
    "    layers.Dropout(0.3),\n",
    "    layers.Dense(3, activation='softmax')\n",
    "])\n",
    "\n",
    "resnet_model.compile(optimizer='adam', loss='sparse_categorical_crossentropy', metrics=['accuracy'])\n",
    "\n",
    "#Train if needed:\n",
    "resnet_model.fit(X_train, y_train, epochs=10, validation_data=(X_val, y_val), batch_size=32)"
   ]
  },
  {
   "cell_type": "code",
   "execution_count": 18,
   "id": "f2909964-77e2-4a3d-8eef-567f82b6c354",
   "metadata": {},
   "outputs": [
    {
     "name": "stdout",
     "output_type": "stream",
     "text": [
      "\u001b[1m20/20\u001b[0m \u001b[32m━━━━━━━━━━━━━━━━━━━━\u001b[0m\u001b[37m\u001b[0m \u001b[1m19s\u001b[0m 930ms/step\n",
      "\n",
      "Classification Report (ResNet50):\n",
      "              precision    recall  f1-score   support\n",
      "\n",
      "  Meningioma       0.78      0.28      0.41       142\n",
      "      Glioma       0.70      0.91      0.79       285\n",
      "   Pituitary       0.84      0.85      0.84       186\n",
      "\n",
      "    accuracy                           0.75       613\n",
      "   macro avg       0.77      0.68      0.68       613\n",
      "weighted avg       0.76      0.75      0.72       613\n",
      "\n"
     ]
    },
    {
     "data": {
      "image/png": "[encoded data removed]",
      "text/plain": [
       "<Figure size 600x500 with 2 Axes>"
      ]
     },
     "metadata": {},
     "output_type": "display_data"
    },
    {
     "name": "stdout",
     "output_type": "stream",
     "text": [
      "ResNet50 Accuracy: 0.7471\n"
     ]
    }
   ],
   "source": [
    "y_pred_probs = resnet_model.predict(X_val)\n",
    "y_pred = np.argmax(y_pred_probs, axis=1)\n",
    "y_true = y_val.numpy() if isinstance(y_val, tf.Tensor) else y_val\n",
    "\n",
    "print(\"\\nClassification Report (ResNet50):\")\n",
    "class_names = [\"Meningioma\", \"Glioma\", \"Pituitary\"]\n",
    "print(classification_report(y_true, y_pred, target_names=class_names))\n",
    "\n",
    "cm = confusion_matrix(y_true, y_pred)\n",
    "plt.figure(figsize=(6, 5))\n",
    "sns.heatmap(cm, annot=True, fmt=\"d\", cmap=\"Purples\",\n",
    "            xticklabels=class_names, yticklabels=class_names)\n",
    "plt.xlabel(\"Predicted\")\n",
    "plt.ylabel(\"Actual\")\n",
    "plt.title(\"Confusion Matrix - ResNet50\")\n",
    "plt.show()\n",
    "\n",
    "print(f\"ResNet50 Accuracy: {accuracy_score(y_true, y_pred):.4f}\")"
   ]
  }
 ],
 "metadata": {
  "kernelspec": {
   "display_name": "Python [conda env:base] *",
   "language": "python",
   "name": "conda-base-py"
  },
  "language_info": {
   "codemirror_mode": {
    "name": "ipython",
    "version": 3
   },
   "file_extension": ".py",
   "mimetype": "text/x-python",
   "name": "python",
   "nbconvert_exporter": "python",
   "pygments_lexer": "ipython3",
   "version": "3.12.7"
  }
 },
 "nbformat": 4,
 "nbformat_minor": 5
}
