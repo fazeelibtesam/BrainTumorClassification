{
 "cells": [
  {
   "cell_type": "code",
   "execution_count": 1,
   "id": "ff507abb-06e9-4e3a-871f-80f01edab888",
   "metadata": {},
   "outputs": [],
   "source": [
    "import os\n",
    "import numpy as np \n",
    "import pandas as pd\n",
    "import tensorflow as tf\n",
    "from tensorflow.keras.preprocessing.image import load_img, img_to_array\n",
    "from sklearn.model_selection import train_test_split\n",
    "from tensorflow.keras import Sequential, layers, Input"
   ]
  },
  {
   "cell_type": "code",
   "execution_count": 2,
   "id": "af673aff-7f6d-4930-b28d-2d03b8c05776",
   "metadata": {},
   "outputs": [],
   "source": [
    "og_df = pd.read_csv('labels.csv')"
   ]
  },
  {
   "cell_type": "code",
   "execution_count": 3,
   "id": "ab3b7068-3378-4a77-acaf-123e2439efd9",
   "metadata": {},
   "outputs": [
    {
     "data": {
      "text/plain": [
       "label\n",
       "2    1426\n",
       "3     930\n",
       "1     708\n",
       "Name: count, dtype: int64"
      ]
     },
     "execution_count": 3,
     "metadata": {},
     "output_type": "execute_result"
    }
   ],
   "source": [
    "og_df['label'].value_counts()"
   ]
  },
  {
   "cell_type": "code",
   "execution_count": 4,
   "id": "bf11bf4e-856d-461e-a071-a44caa2491a4",
   "metadata": {},
   "outputs": [],
   "source": [
    "df = og_df.copy()"
   ]
  },
  {
   "cell_type": "code",
   "execution_count": 5,
   "id": "ab356f43-309a-4254-b28f-0c5913df34d4",
   "metadata": {},
   "outputs": [],
   "source": [
    "df['label'] = df['label'] - df['label'].min()"
   ]
  },
  {
   "cell_type": "code",
   "execution_count": 6,
   "id": "c2293e8a-f1f9-4978-957c-927335b7e66e",
   "metadata": {},
   "outputs": [],
   "source": [
    "# Image directory and resize config\n",
    "img_dir = 'C:/Users/User/dimaag/png_images'\n",
    "IMG_SIZE = (224, 224)"
   ]
  },
  {
   "cell_type": "code",
   "execution_count": 7,
   "id": "ce529671-eb78-42a3-ae08-04e8a56a9787",
   "metadata": {},
   "outputs": [],
   "source": [
    "# Preload all images and labels into NumPy arrays\n",
    "images = []\n",
    "labels = []\n",
    "\n",
    "for _, row in df.iterrows():\n",
    "    img_path = os.path.join(img_dir, row['filename'])\n",
    "    image = load_img(img_path, target_size=IMG_SIZE)\n",
    "    image = img_to_array(image) / 255.0\n",
    "    label = row['label']\n",
    "    images.append(image)\n",
    "    labels.append(label)"
   ]
  },
  {
   "cell_type": "code",
   "execution_count": 8,
   "id": "e0fecb42-191d-4cff-8f54-a51e4056020d",
   "metadata": {},
   "outputs": [],
   "source": [
    "# Convert to NumPy arrays first\n",
    "images = np.array(images, dtype=np.float32)\n",
    "labels = np.array(labels, dtype=np.int32)"
   ]
  },
  {
   "cell_type": "code",
   "execution_count": 9,
   "id": "4cc9f27c-b730-474d-98c4-cc29ed5cf715",
   "metadata": {},
   "outputs": [],
   "source": [
    "#Now split the NumPy arrays\n",
    "X_train, X_val, y_train, y_val = train_test_split(\n",
    "    images, labels, test_size=0.2, stratify=labels, random_state=42\n",
    ")"
   ]
  },
  {
   "cell_type": "code",
   "execution_count": 10,
   "id": "5f61ee5c-4e50-4513-9300-d7d1abdfa7d7",
   "metadata": {},
   "outputs": [],
   "source": [
    "#Convert to TensorFlow tensors\n",
    "X_train = tf.convert_to_tensor(X_train, dtype=tf.float32)\n",
    "X_val   = tf.convert_to_tensor(X_val, dtype=tf.float32)\n",
    "y_train = tf.convert_to_tensor(y_train, dtype=tf.int32)\n",
    "y_val   = tf.convert_to_tensor(y_val, dtype=tf.int32)"
   ]
  },
  {
   "cell_type": "code",
   "execution_count": 11,
   "id": "480b7328-9fb9-4daa-ac51-d5d592194c53",
   "metadata": {},
   "outputs": [
    {
     "data": {
      "text/plain": [
       "label\n",
       "1    1426\n",
       "2     930\n",
       "0     708\n",
       "Name: count, dtype: int64"
      ]
     },
     "execution_count": 11,
     "metadata": {},
     "output_type": "execute_result"
    }
   ],
   "source": [
    "df['label'].value_counts()"
   ]
  },
  {
   "cell_type": "code",
   "execution_count": 12,
   "id": "06794da3-968b-45e4-ac11-161fc7477d1e",
   "metadata": {},
   "outputs": [],
   "source": [
    "custom_cnn_model = Sequential([\n",
    "    Input(shape=(224, 224, 3)),\n",
    "    \n",
    "    layers.Conv2D(32, (3, 3), activation='relu'),\n",
    "    layers.BatchNormalization(),\n",
    "    layers.MaxPooling2D((2, 2)),\n",
    "\n",
    "    layers.Conv2D(64, (3, 3), activation='relu'),\n",
    "    layers.BatchNormalization(),\n",
    "    layers.MaxPooling2D((2, 2)),\n",
    "\n",
    "    layers.Conv2D(128, (3, 3), activation='relu'),\n",
    "    layers.BatchNormalization(),\n",
    "    layers.MaxPooling2D((2, 2)),\n",
    "\n",
    "    layers.Flatten(),\n",
    "    layers.Dense(256, activation='relu'),\n",
    "    layers.Dropout(0.4),\n",
    "    layers.Dense(3, activation='softmax')\n",
    "])"
   ]
  },
  {
   "cell_type": "code",
   "execution_count": 13,
   "id": "bb614738-b990-4cc4-b513-5f1887df8435",
   "metadata": {},
   "outputs": [],
   "source": [
    "custom_cnn_model.compile(\n",
    "    optimizer='adam',\n",
    "    loss='sparse_categorical_crossentropy',  # Use categorical_crossentropy if labels are one-hot\n",
    "    metrics=['accuracy']\n",
    ")"
   ]
  },
  {
   "cell_type": "code",
   "execution_count": 14,
   "id": "6ae91e06-8500-48a7-b8aa-de449525b867",
   "metadata": {},
   "outputs": [
    {
     "name": "stdout",
     "output_type": "stream",
     "text": [
      "Epoch 1/20\n",
      "\u001b[1m77/77\u001b[0m \u001b[32m━━━━━━━━━━━━━━━━━━━━\u001b[0m\u001b[37m\u001b[0m \u001b[1m240s\u001b[0m 3s/step - accuracy: 0.5755 - loss: 19.1024 - val_accuracy: 0.2316 - val_loss: 164.8392\n",
      "Epoch 2/20\n",
      "\u001b[1m77/77\u001b[0m \u001b[32m━━━━━━━━━━━━━━━━━━━━\u001b[0m\u001b[37m\u001b[0m \u001b[1m221s\u001b[0m 3s/step - accuracy: 0.7340 - loss: 0.6354 - val_accuracy: 0.2316 - val_loss: 148.2466\n",
      "Epoch 3/20\n",
      "\u001b[1m77/77\u001b[0m \u001b[32m━━━━━━━━━━━━━━━━━━━━\u001b[0m\u001b[37m\u001b[0m \u001b[1m218s\u001b[0m 3s/step - accuracy: 0.7299 - loss: 0.5877 - val_accuracy: 0.2382 - val_loss: 76.5467\n",
      "Epoch 4/20\n",
      "\u001b[1m77/77\u001b[0m \u001b[32m━━━━━━━━━━━━━━━━━━━━\u001b[0m\u001b[37m\u001b[0m \u001b[1m224s\u001b[0m 3s/step - accuracy: 0.7115 - loss: 0.6028 - val_accuracy: 0.2316 - val_loss: 47.0977\n",
      "Epoch 5/20\n",
      "\u001b[1m77/77\u001b[0m \u001b[32m━━━━━━━━━━━━━━━━━━━━\u001b[0m\u001b[37m\u001b[0m \u001b[1m171s\u001b[0m 2s/step - accuracy: 0.7265 - loss: 0.4917 - val_accuracy: 0.2855 - val_loss: 11.9718\n",
      "Epoch 6/20\n",
      "\u001b[1m77/77\u001b[0m \u001b[32m━━━━━━━━━━━━━━━━━━━━\u001b[0m\u001b[37m\u001b[0m \u001b[1m162s\u001b[0m 2s/step - accuracy: 0.7693 - loss: 0.4620 - val_accuracy: 0.7765 - val_loss: 0.5916\n",
      "Epoch 7/20\n",
      "\u001b[1m77/77\u001b[0m \u001b[32m━━━━━━━━━━━━━━━━━━━━\u001b[0m\u001b[37m\u001b[0m \u001b[1m133s\u001b[0m 2s/step - accuracy: 0.8078 - loss: 0.4374 - val_accuracy: 0.7700 - val_loss: 0.5425\n",
      "Epoch 8/20\n",
      "\u001b[1m77/77\u001b[0m \u001b[32m━━━━━━━━━━━━━━━━━━━━\u001b[0m\u001b[37m\u001b[0m \u001b[1m89s\u001b[0m 1s/step - accuracy: 0.8150 - loss: 0.4178 - val_accuracy: 0.7162 - val_loss: 0.7148\n",
      "Epoch 9/20\n",
      "\u001b[1m77/77\u001b[0m \u001b[32m━━━━━━━━━━━━━━━━━━━━\u001b[0m\u001b[37m\u001b[0m \u001b[1m90s\u001b[0m 1s/step - accuracy: 0.8313 - loss: 0.4055 - val_accuracy: 0.7325 - val_loss: 0.4762\n",
      "Epoch 10/20\n",
      "\u001b[1m77/77\u001b[0m \u001b[32m━━━━━━━━━━━━━━━━━━━━\u001b[0m\u001b[37m\u001b[0m \u001b[1m91s\u001b[0m 1s/step - accuracy: 0.8261 - loss: 0.4353 - val_accuracy: 0.8597 - val_loss: 0.3196\n",
      "Epoch 11/20\n",
      "\u001b[1m77/77\u001b[0m \u001b[32m━━━━━━━━━━━━━━━━━━━━\u001b[0m\u001b[37m\u001b[0m \u001b[1m92s\u001b[0m 1s/step - accuracy: 0.8585 - loss: 0.3384 - val_accuracy: 0.9021 - val_loss: 0.2393\n",
      "Epoch 12/20\n",
      "\u001b[1m77/77\u001b[0m \u001b[32m━━━━━━━━━━━━━━━━━━━━\u001b[0m\u001b[37m\u001b[0m \u001b[1m90s\u001b[0m 1s/step - accuracy: 0.8818 - loss: 0.3047 - val_accuracy: 0.9299 - val_loss: 0.1923\n",
      "Epoch 13/20\n",
      "\u001b[1m77/77\u001b[0m \u001b[32m━━━━━━━━━━━━━━━━━━━━\u001b[0m\u001b[37m\u001b[0m \u001b[1m93s\u001b[0m 1s/step - accuracy: 0.8901 - loss: 0.2627 - val_accuracy: 0.8336 - val_loss: 0.4298\n",
      "Epoch 14/20\n",
      "\u001b[1m77/77\u001b[0m \u001b[32m━━━━━━━━━━━━━━━━━━━━\u001b[0m\u001b[37m\u001b[0m \u001b[1m143s\u001b[0m 2s/step - accuracy: 0.9088 - loss: 0.2394 - val_accuracy: 0.8760 - val_loss: 0.2782\n",
      "Epoch 15/20\n",
      "\u001b[1m77/77\u001b[0m \u001b[32m━━━━━━━━━━━━━━━━━━━━\u001b[0m\u001b[37m\u001b[0m \u001b[1m155s\u001b[0m 2s/step - accuracy: 0.9130 - loss: 0.2262 - val_accuracy: 0.7569 - val_loss: 1.1324\n",
      "Epoch 16/20\n",
      "\u001b[1m77/77\u001b[0m \u001b[32m━━━━━━━━━━━━━━━━━━━━\u001b[0m\u001b[37m\u001b[0m \u001b[1m155s\u001b[0m 2s/step - accuracy: 0.9233 - loss: 0.2010 - val_accuracy: 0.9429 - val_loss: 0.1640\n",
      "Epoch 17/20\n",
      "\u001b[1m77/77\u001b[0m \u001b[32m━━━━━━━━━━━━━━━━━━━━\u001b[0m\u001b[37m\u001b[0m \u001b[1m157s\u001b[0m 2s/step - accuracy: 0.9211 - loss: 0.1992 - val_accuracy: 0.7945 - val_loss: 1.0848\n",
      "Epoch 18/20\n",
      "\u001b[1m77/77\u001b[0m \u001b[32m━━━━━━━━━━━━━━━━━━━━\u001b[0m\u001b[37m\u001b[0m \u001b[1m156s\u001b[0m 2s/step - accuracy: 0.9334 - loss: 0.1978 - val_accuracy: 0.7194 - val_loss: 0.5251\n",
      "Epoch 19/20\n",
      "\u001b[1m77/77\u001b[0m \u001b[32m━━━━━━━━━━━━━━━━━━━━\u001b[0m\u001b[37m\u001b[0m \u001b[1m156s\u001b[0m 2s/step - accuracy: 0.9269 - loss: 0.2129 - val_accuracy: 0.9135 - val_loss: 0.1907\n",
      "Epoch 20/20\n",
      "\u001b[1m77/77\u001b[0m \u001b[32m━━━━━━━━━━━━━━━━━━━━\u001b[0m\u001b[37m\u001b[0m \u001b[1m112s\u001b[0m 1s/step - accuracy: 0.9235 - loss: 0.2271 - val_accuracy: 0.9396 - val_loss: 0.2075\n"
     ]
    }
   ],
   "source": [
    "history = custom_cnn_model.fit(\n",
    "    X_train, y_train,\n",
    "    validation_data=(X_val, y_val),\n",
    "    epochs=20,\n",
    "    batch_size=32\n",
    ")"
   ]
  },
  {
   "cell_type": "code",
   "execution_count": 17,
   "id": "c315f506-f337-41c8-aa93-51d19552af32",
   "metadata": {},
   "outputs": [],
   "source": [
    "from sklearn.metrics import accuracy_score\n",
    "from sklearn.metrics import classification_report, confusion_matrix\n",
    "import seaborn as sns\n",
    "import matplotlib.pyplot as plt"
   ]
  },
  {
   "cell_type": "code",
   "execution_count": 19,
   "id": "8155c434-3936-4982-be91-67bfbc9e6a98",
   "metadata": {},
   "outputs": [
    {
     "name": "stdout",
     "output_type": "stream",
     "text": [
      "\u001b[1m20/20\u001b[0m \u001b[32m━━━━━━━━━━━━━━━━━━━━\u001b[0m\u001b[37m\u001b[0m \u001b[1m3s\u001b[0m 166ms/step\n"
     ]
    }
   ],
   "source": [
    "# Get predicted probabilities\n",
    "y_pred_probs = custom_cnn_model.predict(X_val)\n",
    "\n",
    "# Get predicted class labels\n",
    "y_pred = np.argmax(y_pred_probs, axis=1)\n",
    "\n",
    "# Convert y_val to NumPy array if it's a Tensor\n",
    "y_true = y_val.numpy() if isinstance(y_val, tf.Tensor) else y_val"
   ]
  },
  {
   "cell_type": "code",
   "execution_count": 21,
   "id": "6f0ef010-1ffd-4177-a34e-60dd6b7ae679",
   "metadata": {},
   "outputs": [
    {
     "name": "stdout",
     "output_type": "stream",
     "text": [
      "\n",
      "Classification Report (Custom Improved CNN):\n",
      "              precision    recall  f1-score   support\n",
      "\n",
      "  Meningioma       0.91      0.82      0.87       142\n",
      "      Glioma       0.94      0.96      0.95       285\n",
      "   Pituitary       0.96      0.99      0.98       186\n",
      "\n",
      "    accuracy                           0.94       613\n",
      "   macro avg       0.94      0.93      0.93       613\n",
      "weighted avg       0.94      0.94      0.94       613\n",
      "\n"
     ]
    }
   ],
   "source": [
    "print(\"\\nClassification Report (Custom Improved CNN):\")\n",
    "class_names = [\"Meningioma\", \"Glioma\", \"Pituitary\"]\n",
    "print(classification_report(y_true, y_pred, target_names=class_names))"
   ]
  },
  {
   "cell_type": "code",
   "execution_count": 23,
   "id": "08f66d08-1bdd-46b5-a549-79eb105c54c0",
   "metadata": {},
   "outputs": [
    {
     "data": {
      "image/png": "[encoded data removed]",
      "text/plain": [
       "<Figure size 600x500 with 2 Axes>"
      ]
     },
     "metadata": {},
     "output_type": "display_data"
    }
   ],
   "source": [
    "cm = confusion_matrix(y_true, y_pred)\n",
    "\n",
    "plt.figure(figsize=(6, 5))\n",
    "sns.heatmap(cm, annot=True, fmt=\"d\", cmap=\"Blues\",\n",
    "            xticklabels=class_names, yticklabels=class_names)\n",
    "plt.xlabel(\"Predicted\")\n",
    "plt.ylabel(\"Actual\")\n",
    "plt.title(\"Confusion Matrix - Custom Imporved CNN\")\n",
    "plt.show()"
   ]
  },
  {
   "cell_type": "code",
   "execution_count": 25,
   "id": "6171c23b-c0fd-4611-8fa1-c7eb6f7e8a05",
   "metadata": {},
   "outputs": [
    {
     "name": "stdout",
     "output_type": "stream",
     "text": [
      "Custom CNN Accuracy: 0.9396\n"
     ]
    }
   ],
   "source": [
    "loss, accuracy = custom_cnn_model.evaluate(X_val, y_val, verbose=0)\n",
    "print(f\"Custom CNN Accuracy: {accuracy:.4f}\")"
   ]
  },
  {
   "cell_type": "code",
   "execution_count": null,
   "id": "f9c1aeef-2d37-463e-a289-309b148061ad",
   "metadata": {},
   "outputs": [],
   "source": []
  }
 ],
 "metadata": {
  "kernelspec": {
   "display_name": "Python [conda env:base] *",
   "language": "python",
   "name": "conda-base-py"
  },
  "language_info": {
   "codemirror_mode": {
    "name": "ipython",
    "version": 3
   },
   "file_extension": ".py",
   "mimetype": "text/x-python",
   "name": "python",
   "nbconvert_exporter": "python",
   "pygments_lexer": "ipython3",
   "version": "3.12.7"
  }
 },
 "nbformat": 4,
 "nbformat_minor": 5
}
