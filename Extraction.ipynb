{
 "cells": [
  {
   "cell_type": "code",
   "execution_count": 15,
   "id": "f1a431a0-7d03-4a08-b133-55d66a70f828",
   "metadata": {},
   "outputs": [],
   "source": [
    "import os\n",
    "import h5py\n",
    "import numpy as np\n",
    "import pandas as pd\n",
    "from PIL import Image\n",
    "import imageio"
   ]
  },
  {
   "cell_type": "code",
   "execution_count": 7,
   "id": "52f74930-fea6-41f3-97bc-49c9a11e0f6b",
   "metadata": {},
   "outputs": [
    {
     "name": "stdout",
     "output_type": "stream",
     "text": [
      "✅ Labels saved to labels.csv\n"
     ]
    }
   ],
   "source": [
    "input_dir = 'C:/Users/User/again/archive1'\n",
    "label_data = []\n",
    "\n",
    "for filename in os.listdir(input_dir):\n",
    "    if filename.endswith('.mat'):\n",
    "        mat_file_path = os.path.join(input_dir, filename)\n",
    "        with h5py.File(mat_file_path, 'r') as mat_data:\n",
    "            cjdata = mat_data['cjdata']\n",
    "            if 'label' in cjdata:\n",
    "                label = int(cjdata['label'][()][0][0])  # Extract scalar label\n",
    "                label_data.append({'filename': os.path.splitext(filename)[0] + '.png', 'label': label})\n",
    "\n",
    "# Save to CSV\n",
    "df = pd.DataFrame(label_data)\n",
    "df.to_csv('C:/Users/User/again/labels.csv', index=False)\n",
    "print(\"Labels saved to labels.csv\")"
   ]
  },
  {
   "cell_type": "code",
   "execution_count": null,
   "id": "6c8a3c82-9f26-4a31-a7b3-2650819da455",
   "metadata": {},
   "outputs": [],
   "source": []
  }
 ],
 "metadata": {
  "kernelspec": {
   "display_name": "Python [conda env:base] *",
   "language": "python",
   "name": "conda-base-py"
  },
  "language_info": {
   "codemirror_mode": {
    "name": "ipython",
    "version": 3
   },
   "file_extension": ".py",
   "mimetype": "text/x-python",
   "name": "python",
   "nbconvert_exporter": "python",
   "pygments_lexer": "ipython3",
   "version": "3.12.7"
  }
 },
 "nbformat": 4,
 "nbformat_minor": 5
}
